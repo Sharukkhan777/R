{
 "cells": [
  {
   "cell_type": "markdown",
   "id": "perfect-graphic",
   "metadata": {},
   "source": [
    "# Title: mapply()\n",
    "\n",
    "#### * Used in list\n",
    "#### * Example: multivariate calculations(see example below)\n",
    "#### * Input : list or vector\n",
    "#### * Output : vector\n",
    "***"
   ]
  },
  {
   "cell_type": "code",
   "execution_count": 51,
   "id": "pediatric-sleep",
   "metadata": {},
   "outputs": [
    {
     "data": {
      "text/html": [
       "<ol class=list-inline>\n",
       "\t<li>1</li>\n",
       "\t<li>1</li>\n",
       "\t<li>1</li>\n",
       "\t<li>1</li>\n",
       "</ol>\n"
      ],
      "text/latex": [
       "\\begin{enumerate*}\n",
       "\\item 1\n",
       "\\item 1\n",
       "\\item 1\n",
       "\\item 1\n",
       "\\end{enumerate*}\n"
      ],
      "text/markdown": [
       "1. 1\n",
       "2. 1\n",
       "3. 1\n",
       "4. 1\n",
       "\n",
       "\n"
      ],
      "text/plain": [
       "[1] 1 1 1 1"
      ]
     },
     "metadata": {},
     "output_type": "display_data"
    }
   ],
   "source": [
    "# using the rep function \n",
    "# rep mean repeat\n",
    "rep(x = 1,4)"
   ]
  },
  {
   "cell_type": "markdown",
   "id": "brief-reward",
   "metadata": {},
   "source": [
    "### mapply"
   ]
  },
  {
   "cell_type": "code",
   "execution_count": 52,
   "id": "matched-production",
   "metadata": {},
   "outputs": [
    {
     "data": {
      "text/html": [
       "<ol>\n",
       "\t<li><ol class=list-inline>\n",
       "\t<li>1</li>\n",
       "\t<li>1</li>\n",
       "\t<li>1</li>\n",
       "\t<li>1</li>\n",
       "</ol>\n",
       "</li>\n",
       "\t<li><ol class=list-inline>\n",
       "\t<li>2</li>\n",
       "\t<li>2</li>\n",
       "\t<li>2</li>\n",
       "</ol>\n",
       "</li>\n",
       "\t<li><ol class=list-inline>\n",
       "\t<li>3</li>\n",
       "\t<li>3</li>\n",
       "</ol>\n",
       "</li>\n",
       "\t<li>4</li>\n",
       "</ol>\n"
      ],
      "text/latex": [
       "\\begin{enumerate}\n",
       "\\item \\begin{enumerate*}\n",
       "\\item 1\n",
       "\\item 1\n",
       "\\item 1\n",
       "\\item 1\n",
       "\\end{enumerate*}\n",
       "\n",
       "\\item \\begin{enumerate*}\n",
       "\\item 2\n",
       "\\item 2\n",
       "\\item 2\n",
       "\\end{enumerate*}\n",
       "\n",
       "\\item \\begin{enumerate*}\n",
       "\\item 3\n",
       "\\item 3\n",
       "\\end{enumerate*}\n",
       "\n",
       "\\item 4\n",
       "\\end{enumerate}\n"
      ],
      "text/markdown": [
       "1. 1. 1\n",
       "2. 1\n",
       "3. 1\n",
       "4. 1\n",
       "\n",
       "\n",
       "\n",
       "2. 1. 2\n",
       "2. 2\n",
       "3. 2\n",
       "\n",
       "\n",
       "\n",
       "3. 1. 3\n",
       "2. 3\n",
       "\n",
       "\n",
       "\n",
       "4. 4\n",
       "\n",
       "\n"
      ],
      "text/plain": [
       "[[1]]\n",
       "[1] 1 1 1 1\n",
       "\n",
       "[[2]]\n",
       "[1] 2 2 2\n",
       "\n",
       "[[3]]\n",
       "[1] 3 3\n",
       "\n",
       "[[4]]\n",
       "[1] 4\n"
      ]
     },
     "metadata": {},
     "output_type": "display_data"
    }
   ],
   "source": [
    "mapply(FUN = rep,c(1,2,3,4),c(4,3,2,1))"
   ]
  },
  {
   "cell_type": "markdown",
   "id": "religious-sculpture",
   "metadata": {},
   "source": [
    "### checking the output type"
   ]
  },
  {
   "cell_type": "code",
   "execution_count": 53,
   "id": "brief-january",
   "metadata": {},
   "outputs": [
    {
     "data": {
      "text/html": [
       "TRUE"
      ],
      "text/latex": [
       "TRUE"
      ],
      "text/markdown": [
       "TRUE"
      ],
      "text/plain": [
       "[1] TRUE"
      ]
     },
     "metadata": {},
     "output_type": "display_data"
    }
   ],
   "source": [
    "x<-mapply(FUN = rep,c(1,2,3,4),c(4,3,2,1))\n",
    "is.vector(x)"
   ]
  },
  {
   "cell_type": "code",
   "execution_count": null,
   "id": "charitable-consensus",
   "metadata": {},
   "outputs": [],
   "source": []
  }
 ],
 "metadata": {
  "kernelspec": {
   "display_name": "R",
   "language": "R",
   "name": "ir"
  },
  "language_info": {
   "codemirror_mode": "r",
   "file_extension": ".r",
   "mimetype": "text/x-r-source",
   "name": "R",
   "pygments_lexer": "r",
   "version": "3.6.1"
  }
 },
 "nbformat": 4,
 "nbformat_minor": 5
}
