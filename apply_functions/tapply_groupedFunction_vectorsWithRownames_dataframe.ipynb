{
 "cells": [
  {
   "cell_type": "markdown",
   "id": "obvious-ocean",
   "metadata": {},
   "source": [
    "# Title: tapply()\n",
    "#### * Used in Vector and Dataframe\n",
    "#### * Example: Grouped calculations, Age mean Gender wise\n",
    "#### * Input : Dataframe or vector\n",
    "#### * Output : array\n",
    "***"
   ]
  },
  {
   "cell_type": "markdown",
   "id": "digital-serve",
   "metadata": {},
   "source": [
    "### --- Contents ---\n",
    "#### i) DataFrame\n",
    "##### ----->After using attach (if df$Age, you can use only Age)\n",
    "##### -----> How to access\n",
    "#### ii) Vector (with rownames, we can arrive solution)\n",
    "##### -----> How to access\n",
    "***"
   ]
  },
  {
   "cell_type": "markdown",
   "id": "distant-township",
   "metadata": {},
   "source": [
    "### i) DataFrame"
   ]
  },
  {
   "cell_type": "code",
   "execution_count": 38,
   "id": "laden-young",
   "metadata": {},
   "outputs": [
    {
     "data": {
      "text/html": [
       "<table>\n",
       "<thead><tr><th scope=col>Age</th><th scope=col>Smokers</th><th scope=col>Gender</th></tr></thead>\n",
       "<tbody>\n",
       "\t<tr><td>20    </td><td>Yes   </td><td>Male  </td></tr>\n",
       "\t<tr><td>30    </td><td>Yes   </td><td>Male  </td></tr>\n",
       "\t<tr><td>40    </td><td>No    </td><td>Male  </td></tr>\n",
       "\t<tr><td>50    </td><td>No    </td><td>Female</td></tr>\n",
       "\t<tr><td>60    </td><td>No    </td><td>Female</td></tr>\n",
       "</tbody>\n",
       "</table>\n"
      ],
      "text/latex": [
       "\\begin{tabular}{r|lll}\n",
       " Age & Smokers & Gender\\\\\n",
       "\\hline\n",
       "\t 20     & Yes    & Male  \\\\\n",
       "\t 30     & Yes    & Male  \\\\\n",
       "\t 40     & No     & Male  \\\\\n",
       "\t 50     & No     & Female\\\\\n",
       "\t 60     & No     & Female\\\\\n",
       "\\end{tabular}\n"
      ],
      "text/markdown": [
       "\n",
       "| Age | Smokers | Gender |\n",
       "|---|---|---|\n",
       "| 20     | Yes    | Male   |\n",
       "| 30     | Yes    | Male   |\n",
       "| 40     | No     | Male   |\n",
       "| 50     | No     | Female |\n",
       "| 60     | No     | Female |\n",
       "\n"
      ],
      "text/plain": [
       "  Age Smokers Gender\n",
       "1 20  Yes     Male  \n",
       "2 30  Yes     Male  \n",
       "3 40  No      Male  \n",
       "4 50  No      Female\n",
       "5 60  No      Female"
      ]
     },
     "metadata": {},
     "output_type": "display_data"
    }
   ],
   "source": [
    "# create a dataframe\n",
    "df <- data.frame(Age = c(20,30,40,50,60),\n",
    "               Smokers = c(\"Yes\",\"Yes\",\"No\",\"No\",\"No\"),\n",
    "               Gender = c(\"Male\",\"Male\",\"Male\",\"Female\",\"Female\"))\n",
    "df"
   ]
  },
  {
   "cell_type": "code",
   "execution_count": 39,
   "id": "figured-angle",
   "metadata": {},
   "outputs": [
    {
     "name": "stdout",
     "output_type": "stream",
     "text": [
      "'data.frame':\t5 obs. of  3 variables:\n",
      " $ Age    : num  20 30 40 50 60\n",
      " $ Smokers: Factor w/ 2 levels \"No\",\"Yes\": 2 2 1 1 1\n",
      " $ Gender : Factor w/ 2 levels \"Female\",\"Male\": 2 2 2 1 1\n"
     ]
    }
   ],
   "source": [
    "# to see the dataframe and its types\n",
    "str(df)"
   ]
  },
  {
   "cell_type": "code",
   "execution_count": 40,
   "id": "harmful-anger",
   "metadata": {},
   "outputs": [
    {
     "name": "stdout",
     "output_type": "stream",
     "text": [
      "[1] \"------ANSWER--------\"\n",
      " No Yes \n",
      " 50  25 \n",
      "[1] \"-----IS ARRAY-----\"\n",
      "[1] TRUE\n",
      "[1] \"---------------------\"\n"
     ]
    }
   ],
   "source": [
    "# using tapply\n",
    "# for Age by Smokers\n",
    "ans <- tapply(X = df$Age,INDEX = df$Smokers,FUN = mean)\n",
    "print(\"------ANSWER--------\")\n",
    "print(ans)\n",
    "print(\"-----IS ARRAY-----\")\n",
    "print(is.array(ans))\n",
    "print(\"---------------------\")"
   ]
  },
  {
   "cell_type": "markdown",
   "id": "suitable-wrong",
   "metadata": {},
   "source": [
    "#### After using attach (if df$Age, you can use only Age)"
   ]
  },
  {
   "cell_type": "code",
   "execution_count": 41,
   "id": "fatty-currency",
   "metadata": {},
   "outputs": [
    {
     "name": "stderr",
     "output_type": "stream",
     "text": [
      "The following objects are masked from df (pos = 3):\n",
      "\n",
      "    Age, Gender, Smokers\n",
      "\n",
      "The following objects are masked from df (pos = 4):\n",
      "\n",
      "    Age, Gender, Smokers\n",
      "\n"
     ]
    }
   ],
   "source": [
    "# after using attach\n",
    "attach(df)"
   ]
  },
  {
   "cell_type": "code",
   "execution_count": 42,
   "id": "suspected-coordinator",
   "metadata": {},
   "outputs": [
    {
     "data": {
      "text/html": [
       "<dl class=dl-horizontal>\n",
       "\t<dt>No</dt>\n",
       "\t\t<dd>50</dd>\n",
       "\t<dt>Yes</dt>\n",
       "\t\t<dd>25</dd>\n",
       "</dl>\n"
      ],
      "text/latex": [
       "\\begin{description*}\n",
       "\\item[No] 50\n",
       "\\item[Yes] 25\n",
       "\\end{description*}\n"
      ],
      "text/markdown": [
       "No\n",
       ":   50Yes\n",
       ":   25\n",
       "\n"
      ],
      "text/plain": [
       " No Yes \n",
       " 50  25 "
      ]
     },
     "metadata": {},
     "output_type": "display_data"
    }
   ],
   "source": [
    "# using tapply\n",
    "# for Age by Smokers\n",
    "tapply(X=Age, INDEX = Smokers, FUN = mean)"
   ]
  },
  {
   "cell_type": "markdown",
   "id": "functional-sequence",
   "metadata": {},
   "source": [
    "#### How to access"
   ]
  },
  {
   "cell_type": "code",
   "execution_count": 43,
   "id": "instrumental-bankruptcy",
   "metadata": {},
   "outputs": [
    {
     "name": "stdout",
     "output_type": "stream",
     "text": [
      "[1] \"array\"\n",
      "[1] 50\n",
      "[1] 25\n"
     ]
    }
   ],
   "source": [
    "# assignes to ans\n",
    "ans <- tapply(X=Age, INDEX = Smokers, FUN = mean)\n",
    "\n",
    "# print the typeof ans\n",
    "print(class(ans))\n",
    "# accessing each value\n",
    "print(ans[\"No\"][[1]])\n",
    "print(ans[\"Yes\"][[1]])"
   ]
  },
  {
   "cell_type": "markdown",
   "id": "contemporary-frame",
   "metadata": {},
   "source": [
    "### ii) Vector (with rownames, we can arrive solution)"
   ]
  },
  {
   "cell_type": "code",
   "execution_count": 44,
   "id": "virgin-wrapping",
   "metadata": {},
   "outputs": [
    {
     "data": {
      "text/html": [
       "<table>\n",
       "<thead><tr><th scope=col>Age</th></tr></thead>\n",
       "<tbody>\n",
       "\t<tr><td>20</td></tr>\n",
       "\t<tr><td>30</td></tr>\n",
       "\t<tr><td>40</td></tr>\n",
       "\t<tr><td>50</td></tr>\n",
       "\t<tr><td>60</td></tr>\n",
       "</tbody>\n",
       "</table>\n"
      ],
      "text/latex": [
       "\\begin{tabular}{l}\n",
       " Age\\\\\n",
       "\\hline\n",
       "\t 20\\\\\n",
       "\t 30\\\\\n",
       "\t 40\\\\\n",
       "\t 50\\\\\n",
       "\t 60\\\\\n",
       "\\end{tabular}\n"
      ],
      "text/markdown": [
       "\n",
       "| Age |\n",
       "|---|\n",
       "| 20 |\n",
       "| 30 |\n",
       "| 40 |\n",
       "| 50 |\n",
       "| 60 |\n",
       "\n"
      ],
      "text/plain": [
       "     Age\n",
       "[1,] 20 \n",
       "[2,] 30 \n",
       "[3,] 40 \n",
       "[4,] 50 \n",
       "[5,] 60 "
      ]
     },
     "metadata": {},
     "output_type": "display_data"
    }
   ],
   "source": [
    "# Use in vector\n",
    "df <- cbind(Age = c(20,30,40,50,60))\n",
    "\n",
    "df"
   ]
  },
  {
   "cell_type": "code",
   "execution_count": 45,
   "id": "exceptional-shopper",
   "metadata": {},
   "outputs": [
    {
     "data": {
      "text/html": [
       "<table>\n",
       "<thead><tr><th></th><th scope=col>Age</th></tr></thead>\n",
       "<tbody>\n",
       "\t<tr><th scope=row>Yes</th><td>20</td></tr>\n",
       "\t<tr><th scope=row>Yes</th><td>30</td></tr>\n",
       "\t<tr><th scope=row>No</th><td>40</td></tr>\n",
       "\t<tr><th scope=row>No</th><td>50</td></tr>\n",
       "\t<tr><th scope=row>No</th><td>60</td></tr>\n",
       "</tbody>\n",
       "</table>\n"
      ],
      "text/latex": [
       "\\begin{tabular}{r|l}\n",
       "  & Age\\\\\n",
       "\\hline\n",
       "\tYes & 20\\\\\n",
       "\tYes & 30\\\\\n",
       "\tNo & 40\\\\\n",
       "\tNo & 50\\\\\n",
       "\tNo & 60\\\\\n",
       "\\end{tabular}\n"
      ],
      "text/markdown": [
       "\n",
       "| <!--/--> | Age |\n",
       "|---|---|\n",
       "| Yes | 20 |\n",
       "| Yes | 30 |\n",
       "| No | 40 |\n",
       "| No | 50 |\n",
       "| No | 60 |\n",
       "\n"
      ],
      "text/plain": [
       "    Age\n",
       "Yes 20 \n",
       "Yes 30 \n",
       "No  40 \n",
       "No  50 \n",
       "No  60 "
      ]
     },
     "metadata": {},
     "output_type": "display_data"
    }
   ],
   "source": [
    "# set dimnames, \n",
    "# so that we can calculte aggregate\n",
    "dimnames(df)[[1]] <-c(\"Yes\",\"Yes\",\"No\",\"No\",\"No\")\n",
    "df"
   ]
  },
  {
   "cell_type": "code",
   "execution_count": 46,
   "id": "mental-economy",
   "metadata": {},
   "outputs": [
    {
     "data": {
      "text/html": [
       "<ol class=list-inline>\n",
       "\t<li>'Yes'</li>\n",
       "\t<li>'Yes'</li>\n",
       "\t<li>'No'</li>\n",
       "\t<li>'No'</li>\n",
       "\t<li>'No'</li>\n",
       "</ol>\n"
      ],
      "text/latex": [
       "\\begin{enumerate*}\n",
       "\\item 'Yes'\n",
       "\\item 'Yes'\n",
       "\\item 'No'\n",
       "\\item 'No'\n",
       "\\item 'No'\n",
       "\\end{enumerate*}\n"
      ],
      "text/markdown": [
       "1. 'Yes'\n",
       "2. 'Yes'\n",
       "3. 'No'\n",
       "4. 'No'\n",
       "5. 'No'\n",
       "\n",
       "\n"
      ],
      "text/plain": [
       "[1] \"Yes\" \"Yes\" \"No\"  \"No\"  \"No\" "
      ]
     },
     "metadata": {},
     "output_type": "display_data"
    }
   ],
   "source": [
    "# just to see rownames\n",
    "rownames(df)"
   ]
  },
  {
   "cell_type": "code",
   "execution_count": 47,
   "id": "industrial-passage",
   "metadata": {},
   "outputs": [
    {
     "name": "stdout",
     "output_type": "stream",
     "text": [
      "[1] \"array\"\n",
      "[1] 50\n",
      "[1] 25\n"
     ]
    }
   ],
   "source": [
    "# apply with index \n",
    "ans <- tapply(X = Age, INDEX = rownames(df),FUN = mean)\n",
    "# print the typeof ans\n",
    "print(class(ans))\n",
    "# accessing each value\n",
    "print(ans[\"No\"][[1]])\n",
    "print(ans[\"Yes\"][[1]])"
   ]
  },
  {
   "cell_type": "markdown",
   "id": "lonely-trash",
   "metadata": {},
   "source": [
    "#### How to access"
   ]
  },
  {
   "cell_type": "code",
   "execution_count": 48,
   "id": "architectural-poetry",
   "metadata": {},
   "outputs": [
    {
     "name": "stdout",
     "output_type": "stream",
     "text": [
      "[1] \"------ANSWER--------\"\n",
      " No Yes \n",
      " 50  25 \n",
      "[1] \"-----IS ARRAY-----\"\n",
      "[1] TRUE\n",
      "[1] \"---------------------\"\n"
     ]
    }
   ],
   "source": [
    "# assignes to ans\n",
    "ans <- tapply(X=Age, INDEX = rownames(df), FUN = mean)\n",
    "\n",
    "print(\"------ANSWER--------\")\n",
    "print(ans)\n",
    "print(\"-----IS ARRAY-----\")\n",
    "print(is.array(ans))\n",
    "print(\"---------------------\")"
   ]
  },
  {
   "cell_type": "code",
   "execution_count": null,
   "id": "above-conservative",
   "metadata": {},
   "outputs": [],
   "source": []
  }
 ],
 "metadata": {
  "kernelspec": {
   "display_name": "R",
   "language": "R",
   "name": "ir"
  },
  "language_info": {
   "codemirror_mode": "r",
   "file_extension": ".r",
   "mimetype": "text/x-r-source",
   "name": "R",
   "pygments_lexer": "r",
   "version": "3.6.1"
  }
 },
 "nbformat": 4,
 "nbformat_minor": 5
}
