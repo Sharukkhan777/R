{
 "cells": [
  {
   "cell_type": "markdown",
   "id": "completed-surface",
   "metadata": {},
   "source": [
    "# Title: tapply()\n",
    "#### * Used in Vector and Dataframe\n",
    "#### * Example: Grouped calculations, Age mean Gender wise\n",
    "***"
   ]
  },
  {
   "cell_type": "markdown",
   "id": "interested-preview",
   "metadata": {},
   "source": [
    "### --- Contents ---\n",
    "#### i) DataFrame\n",
    "##### ----->After using attach (if df$Age, you can use only Age)\n",
    "##### -----> How to access\n",
    "#### ii) Vector (with rownames, we can arrive solution)\n",
    "##### -----> How to access\n",
    "***"
   ]
  },
  {
   "cell_type": "markdown",
   "id": "metropolitan-filing",
   "metadata": {},
   "source": [
    "### i) DataFrame"
   ]
  },
  {
   "cell_type": "code",
   "execution_count": 1,
   "id": "consistent-manufacturer",
   "metadata": {},
   "outputs": [
    {
     "data": {
      "text/html": [
       "<table>\n",
       "<thead><tr><th scope=col>Age</th><th scope=col>Smokers</th><th scope=col>Gender</th></tr></thead>\n",
       "<tbody>\n",
       "\t<tr><td>20    </td><td>Yes   </td><td>Male  </td></tr>\n",
       "\t<tr><td>30    </td><td>Yes   </td><td>Male  </td></tr>\n",
       "\t<tr><td>40    </td><td>No    </td><td>Male  </td></tr>\n",
       "\t<tr><td>50    </td><td>No    </td><td>Female</td></tr>\n",
       "\t<tr><td>60    </td><td>No    </td><td>Female</td></tr>\n",
       "</tbody>\n",
       "</table>\n"
      ],
      "text/latex": [
       "\\begin{tabular}{r|lll}\n",
       " Age & Smokers & Gender\\\\\n",
       "\\hline\n",
       "\t 20     & Yes    & Male  \\\\\n",
       "\t 30     & Yes    & Male  \\\\\n",
       "\t 40     & No     & Male  \\\\\n",
       "\t 50     & No     & Female\\\\\n",
       "\t 60     & No     & Female\\\\\n",
       "\\end{tabular}\n"
      ],
      "text/markdown": [
       "\n",
       "| Age | Smokers | Gender |\n",
       "|---|---|---|\n",
       "| 20     | Yes    | Male   |\n",
       "| 30     | Yes    | Male   |\n",
       "| 40     | No     | Male   |\n",
       "| 50     | No     | Female |\n",
       "| 60     | No     | Female |\n",
       "\n"
      ],
      "text/plain": [
       "  Age Smokers Gender\n",
       "1 20  Yes     Male  \n",
       "2 30  Yes     Male  \n",
       "3 40  No      Male  \n",
       "4 50  No      Female\n",
       "5 60  No      Female"
      ]
     },
     "metadata": {},
     "output_type": "display_data"
    }
   ],
   "source": [
    "# create a dataframe\n",
    "df <- data.frame(Age = c(20,30,40,50,60),\n",
    "               Smokers = c(\"Yes\",\"Yes\",\"No\",\"No\",\"No\"),\n",
    "               Gender = c(\"Male\",\"Male\",\"Male\",\"Female\",\"Female\"))\n",
    "df"
   ]
  },
  {
   "cell_type": "code",
   "execution_count": 2,
   "id": "arabic-marathon",
   "metadata": {},
   "outputs": [
    {
     "name": "stdout",
     "output_type": "stream",
     "text": [
      "'data.frame':\t5 obs. of  3 variables:\n",
      " $ Age    : num  20 30 40 50 60\n",
      " $ Smokers: Factor w/ 2 levels \"No\",\"Yes\": 2 2 1 1 1\n",
      " $ Gender : Factor w/ 2 levels \"Female\",\"Male\": 2 2 2 1 1\n"
     ]
    }
   ],
   "source": [
    "# to see the dataframe and its types\n",
    "str(df)"
   ]
  },
  {
   "cell_type": "code",
   "execution_count": 3,
   "id": "alternative-cricket",
   "metadata": {},
   "outputs": [
    {
     "data": {
      "text/html": [
       "<dl class=dl-horizontal>\n",
       "\t<dt>No</dt>\n",
       "\t\t<dd>50</dd>\n",
       "\t<dt>Yes</dt>\n",
       "\t\t<dd>25</dd>\n",
       "</dl>\n"
      ],
      "text/latex": [
       "\\begin{description*}\n",
       "\\item[No] 50\n",
       "\\item[Yes] 25\n",
       "\\end{description*}\n"
      ],
      "text/markdown": [
       "No\n",
       ":   50Yes\n",
       ":   25\n",
       "\n"
      ],
      "text/plain": [
       " No Yes \n",
       " 50  25 "
      ]
     },
     "metadata": {},
     "output_type": "display_data"
    }
   ],
   "source": [
    "# using tapply\n",
    "# for Age by Smokers\n",
    "tapply(X = df$Age,INDEX = df$Smokers,FUN = mean)"
   ]
  },
  {
   "cell_type": "markdown",
   "id": "overall-introduction",
   "metadata": {},
   "source": [
    "#### After using attach (if df$Age, you can use only Age)"
   ]
  },
  {
   "cell_type": "code",
   "execution_count": 4,
   "id": "smooth-context",
   "metadata": {},
   "outputs": [],
   "source": [
    "# after using attach\n",
    "attach(df)"
   ]
  },
  {
   "cell_type": "code",
   "execution_count": 5,
   "id": "special-performer",
   "metadata": {},
   "outputs": [
    {
     "data": {
      "text/html": [
       "<dl class=dl-horizontal>\n",
       "\t<dt>No</dt>\n",
       "\t\t<dd>50</dd>\n",
       "\t<dt>Yes</dt>\n",
       "\t\t<dd>25</dd>\n",
       "</dl>\n"
      ],
      "text/latex": [
       "\\begin{description*}\n",
       "\\item[No] 50\n",
       "\\item[Yes] 25\n",
       "\\end{description*}\n"
      ],
      "text/markdown": [
       "No\n",
       ":   50Yes\n",
       ":   25\n",
       "\n"
      ],
      "text/plain": [
       " No Yes \n",
       " 50  25 "
      ]
     },
     "metadata": {},
     "output_type": "display_data"
    }
   ],
   "source": [
    "# using tapply\n",
    "# for Age by Smokers\n",
    "tapply(X=Age, INDEX = Smokers, FUN = mean)"
   ]
  },
  {
   "cell_type": "markdown",
   "id": "scientific-mumbai",
   "metadata": {},
   "source": [
    "#### How to access"
   ]
  },
  {
   "cell_type": "code",
   "execution_count": 6,
   "id": "normal-linux",
   "metadata": {},
   "outputs": [
    {
     "name": "stdout",
     "output_type": "stream",
     "text": [
      "[1] \"array\"\n",
      "[1] 50\n",
      "[1] 25\n"
     ]
    }
   ],
   "source": [
    "# assignes to ans\n",
    "ans <- tapply(X=Age, INDEX = Smokers, FUN = mean)\n",
    "\n",
    "# print the typeof ans\n",
    "print(class(ans))\n",
    "# accessing each value\n",
    "print(ans[\"No\"][[1]])\n",
    "print(ans[\"Yes\"][[1]])"
   ]
  },
  {
   "cell_type": "markdown",
   "id": "coral-acrobat",
   "metadata": {},
   "source": [
    "### ii) Vector (with rownames, we can arrive solution)"
   ]
  },
  {
   "cell_type": "code",
   "execution_count": 7,
   "id": "fiscal-treasure",
   "metadata": {},
   "outputs": [
    {
     "data": {
      "text/html": [
       "<table>\n",
       "<thead><tr><th scope=col>Age</th></tr></thead>\n",
       "<tbody>\n",
       "\t<tr><td>20</td></tr>\n",
       "\t<tr><td>30</td></tr>\n",
       "\t<tr><td>40</td></tr>\n",
       "\t<tr><td>50</td></tr>\n",
       "\t<tr><td>60</td></tr>\n",
       "</tbody>\n",
       "</table>\n"
      ],
      "text/latex": [
       "\\begin{tabular}{l}\n",
       " Age\\\\\n",
       "\\hline\n",
       "\t 20\\\\\n",
       "\t 30\\\\\n",
       "\t 40\\\\\n",
       "\t 50\\\\\n",
       "\t 60\\\\\n",
       "\\end{tabular}\n"
      ],
      "text/markdown": [
       "\n",
       "| Age |\n",
       "|---|\n",
       "| 20 |\n",
       "| 30 |\n",
       "| 40 |\n",
       "| 50 |\n",
       "| 60 |\n",
       "\n"
      ],
      "text/plain": [
       "     Age\n",
       "[1,] 20 \n",
       "[2,] 30 \n",
       "[3,] 40 \n",
       "[4,] 50 \n",
       "[5,] 60 "
      ]
     },
     "metadata": {},
     "output_type": "display_data"
    }
   ],
   "source": [
    "# Use in vector\n",
    "df <- cbind(Age = c(20,30,40,50,60))\n",
    "\n",
    "df"
   ]
  },
  {
   "cell_type": "code",
   "execution_count": 8,
   "id": "active-victoria",
   "metadata": {},
   "outputs": [
    {
     "data": {
      "text/html": [
       "<table>\n",
       "<thead><tr><th></th><th scope=col>Age</th></tr></thead>\n",
       "<tbody>\n",
       "\t<tr><th scope=row>Yes</th><td>20</td></tr>\n",
       "\t<tr><th scope=row>Yes</th><td>30</td></tr>\n",
       "\t<tr><th scope=row>No</th><td>40</td></tr>\n",
       "\t<tr><th scope=row>No</th><td>50</td></tr>\n",
       "\t<tr><th scope=row>No</th><td>60</td></tr>\n",
       "</tbody>\n",
       "</table>\n"
      ],
      "text/latex": [
       "\\begin{tabular}{r|l}\n",
       "  & Age\\\\\n",
       "\\hline\n",
       "\tYes & 20\\\\\n",
       "\tYes & 30\\\\\n",
       "\tNo & 40\\\\\n",
       "\tNo & 50\\\\\n",
       "\tNo & 60\\\\\n",
       "\\end{tabular}\n"
      ],
      "text/markdown": [
       "\n",
       "| <!--/--> | Age |\n",
       "|---|---|\n",
       "| Yes | 20 |\n",
       "| Yes | 30 |\n",
       "| No | 40 |\n",
       "| No | 50 |\n",
       "| No | 60 |\n",
       "\n"
      ],
      "text/plain": [
       "    Age\n",
       "Yes 20 \n",
       "Yes 30 \n",
       "No  40 \n",
       "No  50 \n",
       "No  60 "
      ]
     },
     "metadata": {},
     "output_type": "display_data"
    }
   ],
   "source": [
    "# set dimnames, \n",
    "# so that we can calculte aggregate\n",
    "dimnames(df)[[1]] <-c(\"Yes\",\"Yes\",\"No\",\"No\",\"No\")\n",
    "df"
   ]
  },
  {
   "cell_type": "code",
   "execution_count": 9,
   "id": "explicit-destination",
   "metadata": {},
   "outputs": [
    {
     "data": {
      "text/html": [
       "<ol class=list-inline>\n",
       "\t<li>'Yes'</li>\n",
       "\t<li>'Yes'</li>\n",
       "\t<li>'No'</li>\n",
       "\t<li>'No'</li>\n",
       "\t<li>'No'</li>\n",
       "</ol>\n"
      ],
      "text/latex": [
       "\\begin{enumerate*}\n",
       "\\item 'Yes'\n",
       "\\item 'Yes'\n",
       "\\item 'No'\n",
       "\\item 'No'\n",
       "\\item 'No'\n",
       "\\end{enumerate*}\n"
      ],
      "text/markdown": [
       "1. 'Yes'\n",
       "2. 'Yes'\n",
       "3. 'No'\n",
       "4. 'No'\n",
       "5. 'No'\n",
       "\n",
       "\n"
      ],
      "text/plain": [
       "[1] \"Yes\" \"Yes\" \"No\"  \"No\"  \"No\" "
      ]
     },
     "metadata": {},
     "output_type": "display_data"
    }
   ],
   "source": [
    "# just to see rownames\n",
    "rownames(df)"
   ]
  },
  {
   "cell_type": "code",
   "execution_count": 10,
   "id": "together-roads",
   "metadata": {},
   "outputs": [
    {
     "data": {
      "text/html": [
       "<dl class=dl-horizontal>\n",
       "\t<dt>No</dt>\n",
       "\t\t<dd>50</dd>\n",
       "\t<dt>Yes</dt>\n",
       "\t\t<dd>25</dd>\n",
       "</dl>\n"
      ],
      "text/latex": [
       "\\begin{description*}\n",
       "\\item[No] 50\n",
       "\\item[Yes] 25\n",
       "\\end{description*}\n"
      ],
      "text/markdown": [
       "No\n",
       ":   50Yes\n",
       ":   25\n",
       "\n"
      ],
      "text/plain": [
       " No Yes \n",
       " 50  25 "
      ]
     },
     "metadata": {},
     "output_type": "display_data"
    }
   ],
   "source": [
    "# apply with index \n",
    "tapply(X = Age, INDEX = rownames(df),FUN = mean)"
   ]
  },
  {
   "cell_type": "markdown",
   "id": "daily-portable",
   "metadata": {},
   "source": [
    "#### How to access"
   ]
  },
  {
   "cell_type": "code",
   "execution_count": 11,
   "id": "remarkable-tooth",
   "metadata": {},
   "outputs": [
    {
     "name": "stdout",
     "output_type": "stream",
     "text": [
      "[1] \"array\"\n",
      "[1] 50\n",
      "[1] 25\n"
     ]
    }
   ],
   "source": [
    "# assignes to ans\n",
    "ans <- tapply(X=Age, INDEX = rownames(df), FUN = mean)\n",
    "\n",
    "# print the typeof ans\n",
    "print(class(ans))\n",
    "# accessing each value\n",
    "print(ans[\"No\"][[1]])\n",
    "print(ans[\"Yes\"][[1]])"
   ]
  },
  {
   "cell_type": "code",
   "execution_count": null,
   "id": "announced-roommate",
   "metadata": {},
   "outputs": [],
   "source": []
  }
 ],
 "metadata": {
  "kernelspec": {
   "display_name": "R",
   "language": "R",
   "name": "ir"
  },
  "language_info": {
   "codemirror_mode": "r",
   "file_extension": ".r",
   "mimetype": "text/x-r-source",
   "name": "R",
   "pygments_lexer": "r",
   "version": "3.6.1"
  }
 },
 "nbformat": 4,
 "nbformat_minor": 5
}
