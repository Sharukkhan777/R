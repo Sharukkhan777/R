{
 "cells": [
  {
   "cell_type": "markdown",
   "id": "speaking-permission",
   "metadata": {},
   "source": [
    "# Title: lapply()\n",
    "#### * Used in list\n",
    "#### * Example: Grouped calculations, Age mean Gender wise\n",
    "#### * Input : list\n",
    "#### * Output : list\n",
    "***"
   ]
  },
  {
   "cell_type": "code",
   "execution_count": 31,
   "id": "contemporary-peeing",
   "metadata": {},
   "outputs": [
    {
     "data": {
      "text/html": [
       "<ol>\n",
       "\t<li><table>\n",
       "<tbody>\n",
       "\t<tr><td>1</td><td>4</td><td>7</td></tr>\n",
       "\t<tr><td>2</td><td>5</td><td>8</td></tr>\n",
       "\t<tr><td>3</td><td>6</td><td>9</td></tr>\n",
       "</tbody>\n",
       "</table>\n",
       "</li>\n",
       "\t<li><ol class=list-inline>\n",
       "\t<li>1</li>\n",
       "\t<li>2</li>\n",
       "\t<li>3</li>\n",
       "</ol>\n",
       "</li>\n",
       "\t<li>7</li>\n",
       "</ol>\n"
      ],
      "text/latex": [
       "\\begin{enumerate}\n",
       "\\item \\begin{tabular}{lll}\n",
       "\t 1 & 4 & 7\\\\\n",
       "\t 2 & 5 & 8\\\\\n",
       "\t 3 & 6 & 9\\\\\n",
       "\\end{tabular}\n",
       "\n",
       "\\item \\begin{enumerate*}\n",
       "\\item 1\n",
       "\\item 2\n",
       "\\item 3\n",
       "\\end{enumerate*}\n",
       "\n",
       "\\item 7\n",
       "\\end{enumerate}\n"
      ],
      "text/markdown": [
       "1. \n",
       "| 1 | 4 | 7 |\n",
       "| 2 | 5 | 8 |\n",
       "| 3 | 6 | 9 |\n",
       "\n",
       "\n",
       "2. 1. 1\n",
       "2. 2\n",
       "3. 3\n",
       "\n",
       "\n",
       "\n",
       "3. 7\n",
       "\n",
       "\n"
      ],
      "text/plain": [
       "[[1]]\n",
       "     [,1] [,2] [,3]\n",
       "[1,]    1    4    7\n",
       "[2,]    2    5    8\n",
       "[3,]    3    6    9\n",
       "\n",
       "[[2]]\n",
       "[1] 1 2 3\n",
       "\n",
       "[[3]]\n",
       "[1] 7\n"
      ]
     },
     "metadata": {},
     "output_type": "display_data"
    }
   ],
   "source": [
    "x<- list(array(data = 1:9, dim = c(3,3)),c(1,2,3),7)\n",
    "x"
   ]
  },
  {
   "cell_type": "code",
   "execution_count": 32,
   "id": "driven-phrase",
   "metadata": {},
   "outputs": [
    {
     "data": {
      "text/html": [
       "<ol>\n",
       "\t<li>45</li>\n",
       "\t<li>6</li>\n",
       "\t<li>7</li>\n",
       "</ol>\n"
      ],
      "text/latex": [
       "\\begin{enumerate}\n",
       "\\item 45\n",
       "\\item 6\n",
       "\\item 7\n",
       "\\end{enumerate}\n"
      ],
      "text/markdown": [
       "1. 45\n",
       "2. 6\n",
       "3. 7\n",
       "\n",
       "\n"
      ],
      "text/plain": [
       "[[1]]\n",
       "[1] 45\n",
       "\n",
       "[[2]]\n",
       "[1] 6\n",
       "\n",
       "[[3]]\n",
       "[1] 7\n"
      ]
     },
     "metadata": {},
     "output_type": "display_data"
    }
   ],
   "source": [
    "lapply(X = x,FUN = sum)"
   ]
  },
  {
   "cell_type": "markdown",
   "id": "local-power",
   "metadata": {},
   "source": [
    "### Own function(naming function)"
   ]
  },
  {
   "cell_type": "code",
   "execution_count": 33,
   "id": "afraid-nudist",
   "metadata": {},
   "outputs": [],
   "source": [
    "# creating a function\n",
    "multilply_ten <- function(x){return(x*10)}"
   ]
  },
  {
   "cell_type": "code",
   "execution_count": 34,
   "id": "respiratory-peter",
   "metadata": {},
   "outputs": [
    {
     "data": {
      "text/html": [
       "<ol>\n",
       "\t<li><table>\n",
       "<tbody>\n",
       "\t<tr><td>10</td><td>40</td><td>70</td></tr>\n",
       "\t<tr><td>20</td><td>50</td><td>80</td></tr>\n",
       "\t<tr><td>30</td><td>60</td><td>90</td></tr>\n",
       "</tbody>\n",
       "</table>\n",
       "</li>\n",
       "\t<li><ol class=list-inline>\n",
       "\t<li>10</li>\n",
       "\t<li>20</li>\n",
       "\t<li>30</li>\n",
       "</ol>\n",
       "</li>\n",
       "\t<li>70</li>\n",
       "</ol>\n"
      ],
      "text/latex": [
       "\\begin{enumerate}\n",
       "\\item \\begin{tabular}{lll}\n",
       "\t 10 & 40 & 70\\\\\n",
       "\t 20 & 50 & 80\\\\\n",
       "\t 30 & 60 & 90\\\\\n",
       "\\end{tabular}\n",
       "\n",
       "\\item \\begin{enumerate*}\n",
       "\\item 10\n",
       "\\item 20\n",
       "\\item 30\n",
       "\\end{enumerate*}\n",
       "\n",
       "\\item 70\n",
       "\\end{enumerate}\n"
      ],
      "text/markdown": [
       "1. \n",
       "| 10 | 40 | 70 |\n",
       "| 20 | 50 | 80 |\n",
       "| 30 | 60 | 90 |\n",
       "\n",
       "\n",
       "2. 1. 10\n",
       "2. 20\n",
       "3. 30\n",
       "\n",
       "\n",
       "\n",
       "3. 70\n",
       "\n",
       "\n"
      ],
      "text/plain": [
       "[[1]]\n",
       "     [,1] [,2] [,3]\n",
       "[1,]   10   40   70\n",
       "[2,]   20   50   80\n",
       "[3,]   30   60   90\n",
       "\n",
       "[[2]]\n",
       "[1] 10 20 30\n",
       "\n",
       "[[3]]\n",
       "[1] 70\n"
      ]
     },
     "metadata": {},
     "output_type": "display_data"
    }
   ],
   "source": [
    "lapply(X = x,FUN = multilply_ten)"
   ]
  },
  {
   "cell_type": "markdown",
   "id": "confused-switzerland",
   "metadata": {},
   "source": [
    "### Own function (anonymous or no name function)"
   ]
  },
  {
   "cell_type": "code",
   "execution_count": 35,
   "id": "super-arena",
   "metadata": {},
   "outputs": [
    {
     "data": {
      "text/html": [
       "<ol>\n",
       "\t<li><table>\n",
       "<tbody>\n",
       "\t<tr><td>10</td><td>40</td><td>70</td></tr>\n",
       "\t<tr><td>20</td><td>50</td><td>80</td></tr>\n",
       "\t<tr><td>30</td><td>60</td><td>90</td></tr>\n",
       "</tbody>\n",
       "</table>\n",
       "</li>\n",
       "\t<li><ol class=list-inline>\n",
       "\t<li>10</li>\n",
       "\t<li>20</li>\n",
       "\t<li>30</li>\n",
       "</ol>\n",
       "</li>\n",
       "\t<li>70</li>\n",
       "</ol>\n"
      ],
      "text/latex": [
       "\\begin{enumerate}\n",
       "\\item \\begin{tabular}{lll}\n",
       "\t 10 & 40 & 70\\\\\n",
       "\t 20 & 50 & 80\\\\\n",
       "\t 30 & 60 & 90\\\\\n",
       "\\end{tabular}\n",
       "\n",
       "\\item \\begin{enumerate*}\n",
       "\\item 10\n",
       "\\item 20\n",
       "\\item 30\n",
       "\\end{enumerate*}\n",
       "\n",
       "\\item 70\n",
       "\\end{enumerate}\n"
      ],
      "text/markdown": [
       "1. \n",
       "| 10 | 40 | 70 |\n",
       "| 20 | 50 | 80 |\n",
       "| 30 | 60 | 90 |\n",
       "\n",
       "\n",
       "2. 1. 10\n",
       "2. 20\n",
       "3. 30\n",
       "\n",
       "\n",
       "\n",
       "3. 70\n",
       "\n",
       "\n"
      ],
      "text/plain": [
       "[[1]]\n",
       "     [,1] [,2] [,3]\n",
       "[1,]   10   40   70\n",
       "[2,]   20   50   80\n",
       "[3,]   30   60   90\n",
       "\n",
       "[[2]]\n",
       "[1] 10 20 30\n",
       "\n",
       "[[3]]\n",
       "[1] 70\n"
      ]
     },
     "metadata": {},
     "output_type": "display_data"
    }
   ],
   "source": [
    "lapply(X = x,FUN = function(x) x*10)"
   ]
  }
 ],
 "metadata": {
  "kernelspec": {
   "display_name": "R",
   "language": "R",
   "name": "ir"
  },
  "language_info": {
   "codemirror_mode": "r",
   "file_extension": ".r",
   "mimetype": "text/x-r-source",
   "name": "R",
   "pygments_lexer": "r",
   "version": "3.6.1"
  }
 },
 "nbformat": 4,
 "nbformat_minor": 5
}
