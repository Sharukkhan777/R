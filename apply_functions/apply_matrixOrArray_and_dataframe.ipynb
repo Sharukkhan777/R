{
 "cells": [
  {
   "cell_type": "markdown",
   "id": "communist-intention",
   "metadata": {},
   "source": [
    "# Title: apply()\n",
    "#### * Used in matrix/array and dataframe\n",
    "#### * Example: Calculte mean for rowwise and column wise\n",
    "#### * Input : matrix/array and dataframe(not direct dataframe)\n",
    "#### * Output: vector\n",
    "***"
   ]
  },
  {
   "cell_type": "markdown",
   "id": "compliant-roulette",
   "metadata": {},
   "source": [
    "### ---Contents---\n",
    "#### i) Array\n",
    "#### * How to access\n",
    "#### ii) Dataframe\n",
    "#### * How to access\n",
    "***"
   ]
  },
  {
   "cell_type": "markdown",
   "id": "public-quality",
   "metadata": {},
   "source": [
    "#### ------------------------------------------------------------------------\n",
    "### Array and dataframe\n",
    "#### i) Array\n",
    "#### ii) DataFrame\n",
    "#### ------------------------------------------------------------------------"
   ]
  },
  {
   "cell_type": "markdown",
   "id": "center-drawing",
   "metadata": {},
   "source": [
    "## i)Array"
   ]
  },
  {
   "cell_type": "code",
   "execution_count": 12,
   "id": "colored-cosmetic",
   "metadata": {},
   "outputs": [
    {
     "data": {
      "text/html": [
       "<table>\n",
       "<thead><tr><th scope=col>x1</th><th scope=col>x2</th></tr></thead>\n",
       "<tbody>\n",
       "\t<tr><td>3</td><td>1</td></tr>\n",
       "\t<tr><td>3</td><td>2</td></tr>\n",
       "\t<tr><td>3</td><td>3</td></tr>\n",
       "\t<tr><td>3</td><td>4</td></tr>\n",
       "\t<tr><td>3</td><td>5</td></tr>\n",
       "</tbody>\n",
       "</table>\n"
      ],
      "text/latex": [
       "\\begin{tabular}{ll}\n",
       " x1 & x2\\\\\n",
       "\\hline\n",
       "\t 3 & 1\\\\\n",
       "\t 3 & 2\\\\\n",
       "\t 3 & 3\\\\\n",
       "\t 3 & 4\\\\\n",
       "\t 3 & 5\\\\\n",
       "\\end{tabular}\n"
      ],
      "text/markdown": [
       "\n",
       "| x1 | x2 |\n",
       "|---|---|\n",
       "| 3 | 1 |\n",
       "| 3 | 2 |\n",
       "| 3 | 3 |\n",
       "| 3 | 4 |\n",
       "| 3 | 5 |\n",
       "\n"
      ],
      "text/plain": [
       "     x1 x2\n",
       "[1,] 3  1 \n",
       "[2,] 3  2 \n",
       "[3,] 3  3 \n",
       "[4,] 3  4 \n",
       "[5,] 3  5 "
      ]
     },
     "metadata": {},
     "output_type": "display_data"
    },
    {
     "data": {
      "text/html": [
       "'matrix'"
      ],
      "text/latex": [
       "'matrix'"
      ],
      "text/markdown": [
       "'matrix'"
      ],
      "text/plain": [
       "[1] \"matrix\""
      ]
     },
     "metadata": {},
     "output_type": "display_data"
    }
   ],
   "source": [
    "# create an array\n",
    "x <- cbind(x1 = 3, x2 = 1:5)\n",
    "x\n",
    "class(x)"
   ]
  },
  {
   "cell_type": "code",
   "execution_count": 13,
   "id": "contained-thesis",
   "metadata": {},
   "outputs": [
    {
     "name": "stdout",
     "output_type": "stream",
     "text": [
      "[1] \"------ANSWER--------\"\n",
      "x1 x2 \n",
      " 3  3 \n",
      "[1] \"-----IS VECTOR-----\"\n",
      "[1] TRUE\n",
      "[1] \"---------------------\"\n",
      "[1] \"------ANSWER--------\"\n",
      "[1] 2.0 2.5 3.0 3.5 4.0\n",
      "[1] \"-----IS VECTOR-----\"\n",
      "[1] TRUE\n",
      "[1] \"---------------------\"\n"
     ]
    }
   ],
   "source": [
    "# calculte mean column-wise\n",
    "mean_col <- apply(x,2,mean)\n",
    "print(\"------ANSWER--------\")\n",
    "print(mean_col)\n",
    "print(\"-----IS VECTOR-----\")\n",
    "print(is.vector(mean_col))\n",
    "print(\"---------------------\")\n",
    "\n",
    "# calculate mean rowwise\n",
    "mean_row <- apply(x,1,mean)\n",
    "print(\"------ANSWER--------\")\n",
    "print(mean_row)\n",
    "print(\"-----IS VECTOR-----\")\n",
    "print(is.vector(mean_row))\n",
    "print(\"---------------------\")"
   ]
  },
  {
   "cell_type": "markdown",
   "id": "formal-charm",
   "metadata": {},
   "source": [
    "#### How to access"
   ]
  },
  {
   "cell_type": "code",
   "execution_count": 14,
   "id": "biblical-lover",
   "metadata": {},
   "outputs": [
    {
     "name": "stdout",
     "output_type": "stream",
     "text": [
      "[1] \"numeric\"\n",
      "[1] 2\n",
      "[1] \"numeric\"\n",
      "[1] 3\n"
     ]
    }
   ],
   "source": [
    "# for row\n",
    "print(class(mean_row))\n",
    "print(mean_row[[1]])\n",
    "# for column\n",
    "print(class(mean_col))\n",
    "print(mean_col[[1]])"
   ]
  },
  {
   "cell_type": "markdown",
   "id": "certain-carbon",
   "metadata": {},
   "source": [
    "## ii) DataFrame"
   ]
  },
  {
   "cell_type": "code",
   "execution_count": 15,
   "id": "funded-gnome",
   "metadata": {},
   "outputs": [
    {
     "data": {
      "text/html": [
       "<table>\n",
       "<thead><tr><th scope=col>x1</th><th scope=col>x2</th></tr></thead>\n",
       "<tbody>\n",
       "\t<tr><td>3</td><td>1</td></tr>\n",
       "\t<tr><td>3</td><td>2</td></tr>\n",
       "\t<tr><td>3</td><td>3</td></tr>\n",
       "\t<tr><td>3</td><td>4</td></tr>\n",
       "\t<tr><td>3</td><td>5</td></tr>\n",
       "</tbody>\n",
       "</table>\n"
      ],
      "text/latex": [
       "\\begin{tabular}{r|ll}\n",
       " x1 & x2\\\\\n",
       "\\hline\n",
       "\t 3 & 1\\\\\n",
       "\t 3 & 2\\\\\n",
       "\t 3 & 3\\\\\n",
       "\t 3 & 4\\\\\n",
       "\t 3 & 5\\\\\n",
       "\\end{tabular}\n"
      ],
      "text/markdown": [
       "\n",
       "| x1 | x2 |\n",
       "|---|---|\n",
       "| 3 | 1 |\n",
       "| 3 | 2 |\n",
       "| 3 | 3 |\n",
       "| 3 | 4 |\n",
       "| 3 | 5 |\n",
       "\n"
      ],
      "text/plain": [
       "  x1 x2\n",
       "1 3  1 \n",
       "2 3  2 \n",
       "3 3  3 \n",
       "4 3  4 \n",
       "5 3  5 "
      ]
     },
     "metadata": {},
     "output_type": "display_data"
    },
    {
     "name": "stdout",
     "output_type": "stream",
     "text": [
      "[1] \"data.frame\"\n"
     ]
    }
   ],
   "source": [
    "# create an array\n",
    "x <- cbind(x1 = 3, x2 = 1:5)\n",
    "x <- as.data.frame(x)\n",
    "x\n",
    "# print the class(type)\n",
    "print(class(x))"
   ]
  },
  {
   "cell_type": "markdown",
   "id": "sitting-individual",
   "metadata": {},
   "source": [
    "#### Same code as above(copied and paste)"
   ]
  },
  {
   "cell_type": "code",
   "execution_count": 16,
   "id": "generous-characteristic",
   "metadata": {},
   "outputs": [
    {
     "name": "stdout",
     "output_type": "stream",
     "text": [
      "[1] \"------ANSWER--------\"\n",
      "x1 x2 \n",
      " 3  3 \n",
      "[1] \"-----IS VECTOR-----\"\n",
      "[1] TRUE\n",
      "[1] \"---------------------\"\n",
      "[1] \"------ANSWER--------\"\n",
      "[1] 2.0 2.5 3.0 3.5 4.0\n",
      "[1] \"-----IS VECTOR-----\"\n",
      "[1] TRUE\n",
      "[1] \"---------------------\"\n"
     ]
    }
   ],
   "source": [
    "# calculte mean column-wise\n",
    "mean_col <- apply(x,2,mean)\n",
    "print(\"------ANSWER--------\")\n",
    "print(mean_col)\n",
    "print(\"-----IS VECTOR-----\")\n",
    "print(is.vector(mean_col))\n",
    "print(\"---------------------\")\n",
    "\n",
    "# calculate mean rowwise\n",
    "mean_row <- apply(x,1,mean)\n",
    "print(\"------ANSWER--------\")\n",
    "print(mean_row)\n",
    "print(\"-----IS VECTOR-----\")\n",
    "print(is.vector(mean_row))\n",
    "print(\"---------------------\")"
   ]
  },
  {
   "cell_type": "markdown",
   "id": "accurate-repository",
   "metadata": {},
   "source": [
    "#### How to access"
   ]
  },
  {
   "cell_type": "code",
   "execution_count": 17,
   "id": "twenty-model",
   "metadata": {},
   "outputs": [
    {
     "name": "stdout",
     "output_type": "stream",
     "text": [
      "[1] \"numeric\"\n",
      "[1] 2\n",
      "[1] \"numeric\"\n",
      "[1] 3\n"
     ]
    }
   ],
   "source": [
    "# for row\n",
    "print(class(mean_row))\n",
    "print(mean_row[[1]])\n",
    "# for column\n",
    "print(class(mean_col))\n",
    "print(mean_col[[1]])"
   ]
  },
  {
   "cell_type": "code",
   "execution_count": null,
   "id": "absent-diversity",
   "metadata": {},
   "outputs": [],
   "source": []
  }
 ],
 "metadata": {
  "kernelspec": {
   "display_name": "R",
   "language": "R",
   "name": "ir"
  },
  "language_info": {
   "codemirror_mode": "r",
   "file_extension": ".r",
   "mimetype": "text/x-r-source",
   "name": "R",
   "pygments_lexer": "r",
   "version": "3.6.1"
  }
 },
 "nbformat": 4,
 "nbformat_minor": 5
}
