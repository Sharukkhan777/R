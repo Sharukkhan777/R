{
 "cells": [
  {
   "cell_type": "markdown",
   "id": "champion-country",
   "metadata": {},
   "source": [
    "# Title: apply()\n",
    "#### * Used in matrix/array and dataframe\n",
    "#### * Example: Calculte mean for rowwise and column wise\n",
    "***"
   ]
  },
  {
   "cell_type": "markdown",
   "id": "proof-warner",
   "metadata": {},
   "source": [
    "### ---Contents---\n",
    "#### i) Array\n",
    "#### * How to access\n",
    "#### ii) Dataframe\n",
    "#### * How to access\n",
    "***"
   ]
  },
  {
   "cell_type": "markdown",
   "id": "million-amber",
   "metadata": {},
   "source": [
    "#### ------------------------------------------------------------------------\n",
    "### Array and dataframe\n",
    "#### i) Array\n",
    "#### ii) DataFrame\n",
    "#### ------------------------------------------------------------------------"
   ]
  },
  {
   "cell_type": "markdown",
   "id": "champion-picnic",
   "metadata": {},
   "source": [
    "## i)Array"
   ]
  },
  {
   "cell_type": "code",
   "execution_count": null,
   "id": "chief-wright",
   "metadata": {},
   "outputs": [],
   "source": [
    "# create an array\n",
    "x <- cbind(x1 = 3, x2 = 1:5)\n",
    "x\n",
    "class(x)"
   ]
  },
  {
   "cell_type": "code",
   "execution_count": null,
   "id": "silver-barrier",
   "metadata": {},
   "outputs": [],
   "source": [
    "# calculte mean column-wise\n",
    "mean_col <- apply(x,2,mean)\n",
    "print(mean_col)\n",
    "\n",
    "print(\"---------------------\")\n",
    "\n",
    "# calculate mean rowwise\n",
    "mean_row <- apply(x,1,mean)\n",
    "print(mean_row)"
   ]
  },
  {
   "cell_type": "markdown",
   "id": "revolutionary-ottawa",
   "metadata": {},
   "source": [
    "#### How to access"
   ]
  },
  {
   "cell_type": "code",
   "execution_count": null,
   "id": "diagnostic-scholar",
   "metadata": {},
   "outputs": [],
   "source": [
    "# for row\n",
    "print(class(mean_row))\n",
    "print(mean_row[[1]])\n",
    "# for column\n",
    "print(class(mean_col))\n",
    "print(mean_col[[1]])"
   ]
  },
  {
   "cell_type": "markdown",
   "id": "moving-outline",
   "metadata": {},
   "source": [
    "## ii) DataFrame"
   ]
  },
  {
   "cell_type": "code",
   "execution_count": null,
   "id": "checked-republican",
   "metadata": {},
   "outputs": [],
   "source": [
    "# create an array\n",
    "x <- cbind(x1 = 3, x2 = 1:5)\n",
    "x <- as.data.frame(x)\n",
    "x\n",
    "# print the class(type)\n",
    "print(class(x))"
   ]
  },
  {
   "cell_type": "markdown",
   "id": "square-eligibility",
   "metadata": {},
   "source": [
    "#### Same code as above(copied and paste)"
   ]
  },
  {
   "cell_type": "code",
   "execution_count": null,
   "id": "unique-jefferson",
   "metadata": {},
   "outputs": [],
   "source": [
    "# calculte mean column-wise\n",
    "mean_col <- apply(x,2,mean)\n",
    "print(mean_col)\n",
    "\n",
    "print(\"---------------------\")\n",
    "\n",
    "# calculate mean rowwise\n",
    "mean_row <- apply(x,1,mean)\n",
    "print(mean_row)"
   ]
  },
  {
   "cell_type": "markdown",
   "id": "beneficial-lindsay",
   "metadata": {},
   "source": [
    "#### How to access"
   ]
  },
  {
   "cell_type": "code",
   "execution_count": null,
   "id": "complex-newsletter",
   "metadata": {},
   "outputs": [],
   "source": [
    "# for row\n",
    "print(class(mean_row))\n",
    "print(mean_row[[1]])\n",
    "# for column\n",
    "print(class(mean_col))\n",
    "print(mean_col[[1]])"
   ]
  },
  {
   "cell_type": "code",
   "execution_count": null,
   "id": "pharmaceutical-craps",
   "metadata": {},
   "outputs": [],
   "source": []
  }
 ],
 "metadata": {
  "kernelspec": {
   "display_name": "R",
   "language": "R",
   "name": "ir"
  },
  "language_info": {
   "codemirror_mode": "r",
   "file_extension": ".r",
   "mimetype": "text/x-r-source",
   "name": "R",
   "pygments_lexer": "r",
   "version": "3.6.1"
  }
 },
 "nbformat": 4,
 "nbformat_minor": 5
}
