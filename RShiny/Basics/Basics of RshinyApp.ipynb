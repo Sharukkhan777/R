{
 "cells": [
  {
   "cell_type": "raw",
   "id": "successful-essay",
   "metadata": {},
   "source": [
    "Contents:\n",
    "1) Basic Skeleton of the code in shiny\n",
    "2) Print \"Hello World!!!\" in web page\n",
    "3) Simple Histogram plot and numeric input\n",
    "4) Simple Add two numbers"
   ]
  },
  {
   "cell_type": "markdown",
   "id": "increased-doctor",
   "metadata": {},
   "source": [
    "### 1) Basic Skeleton of the code in shiny"
   ]
  },
  {
   "cell_type": "code",
   "execution_count": null,
   "id": "fifty-terror",
   "metadata": {},
   "outputs": [],
   "source": [
    "library(shiny)\n",
    "\n",
    "ui <- fluidPage()\n",
    "\n",
    "server <- function(input,output) {}\n",
    "\n",
    "shinyApp(ui = ui, server = server)"
   ]
  },
  {
   "cell_type": "markdown",
   "id": "pressing-resort",
   "metadata": {},
   "source": [
    "### 2) Print \"Hello World!!!\" in web page"
   ]
  },
  {
   "cell_type": "code",
   "execution_count": null,
   "id": "finished-leone",
   "metadata": {},
   "outputs": [],
   "source": [
    "library(shiny)\n",
    "\n",
    "ui <- fluidPage(\"Hello World!!!\")\n",
    "\n",
    "server <- function(input,output) {}\n",
    "\n",
    "shinyApp(ui = ui, server = server)"
   ]
  },
  {
   "cell_type": "markdown",
   "id": "advisory-punishment",
   "metadata": {},
   "source": [
    "### 3) Simple Histogram plot and numeric input"
   ]
  },
  {
   "cell_type": "code",
   "execution_count": null,
   "id": "gross-laundry",
   "metadata": {},
   "outputs": [],
   "source": [
    "# Basics of R shiny\n",
    "\n",
    "# import shiny\n",
    "library(shiny)\n",
    "\n",
    "# define UI(creates the html codes)\n",
    "ui <- fluidPage(\n",
    "  numericInput(inputId = \"n\",\n",
    "               \"Sample size\", value = 25),   # numeric input in html page\n",
    "  \n",
    "  plotOutput(outputId = \"hist\")              # histogram in html page\n",
    ")\n",
    "\n",
    "# Like javascript the function behind the html goes inside server.\n",
    "# output$<id>\n",
    "# input$<id>\n",
    "server <- function(input, output) {\n",
    "  output$hist <- renderPlot({\n",
    "    hist(rnorm(input$n)) # rnorm(n, mean = 0, sd = 1)\n",
    "  })\n",
    "}\n",
    "shinyApp(ui = ui, server = server)"
   ]
  },
  {
   "cell_type": "code",
   "execution_count": null,
   "id": "amended-surveillance",
   "metadata": {},
   "outputs": [],
   "source": [
    "# print the ui (html code it shows)\n",
    ">>> ui\n",
    "\n",
    "# Output\n",
    "<div class=\"container-fluid\">\n",
    "  <div class=\"form-group shiny-input-container\">\n",
    "    <label class=\"control-label\" for=\"n\">Sample size</label>\n",
    "    <input id=\"n\" type=\"number\" class=\"form-control\" value=\"25\"/>\n",
    "  </div>\n",
    "  <div id=\"hist\" class=\"shiny-plot-output\" style=\"width: 100% ; height: 400px\"></div>\n",
    "</div>"
   ]
  },
  {
   "cell_type": "markdown",
   "id": "mature-strike",
   "metadata": {},
   "source": [
    "### 4) Simple Add two numbers"
   ]
  },
  {
   "cell_type": "code",
   "execution_count": null,
   "id": "broken-collect",
   "metadata": {},
   "outputs": [],
   "source": [
    "# Basics of R shiny\n",
    "\n",
    "# import shiny\n",
    "library(shiny)\n",
    "\n",
    "# define UI(User Interface)\n",
    "ui <- fluidPage(\n",
    "  numericInput(inputId = \"n1\",\n",
    "               \"Sample size 1 \", value = 25),\n",
    "  numericInput(inputId = \"n2\",\n",
    "               \"Sample size 2\", value = 25),\n",
    "  textOutput(outputId = \"ans\")\n",
    ")\n",
    "\n",
    "# Tell server how to render outputs by\n",
    "# output$<id>\n",
    "# input$<id>\n",
    "server <- function(input, output) {\n",
    "  output$ans <- renderText({\n",
    "    input$n1 + input$n2\n",
    "  })\n",
    "}\n",
    "shinyApp(ui = ui, server = server)"
   ]
  },
  {
   "cell_type": "code",
   "execution_count": null,
   "id": "mediterranean-today",
   "metadata": {},
   "outputs": [],
   "source": []
  }
 ],
 "metadata": {
  "kernelspec": {
   "display_name": "R",
   "language": "R",
   "name": "ir"
  },
  "language_info": {
   "codemirror_mode": "r",
   "file_extension": ".r",
   "mimetype": "text/x-r-source",
   "name": "R",
   "pygments_lexer": "r",
   "version": "3.6.1"
  }
 },
 "nbformat": 4,
 "nbformat_minor": 5
}
